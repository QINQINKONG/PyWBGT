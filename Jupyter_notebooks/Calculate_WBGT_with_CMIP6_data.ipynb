{
 "cells": [
  {
   "cell_type": "markdown",
   "metadata": {},
   "source": [
    "# Calculate WBGT with CMIP6 data\n",
    "This notebook introduces how to use our code to calculate WBGT with 3hourly CMIP6 data during a 1-month period obtained from google cloud. Although it is not a big data problem, we still leverge Dask to do calculations lazily and parallelly which will be helpful for users to apply the code to large-size data.\n",
    "\n",
    "The code was transferred (with a bit modifications) from Liljegren's WBGT code which is in C language (available from https://github.com/mdljts/wbgt/blob/master/src/wbgt.c). For details of the calculation procedure, please refer to Liljegren et al (2018).\n",
    "\n",
    "To use our code, please consider cite: *Kong, Qinqin, and Matthew Huber. “Explicit Calculations of Wet Bulb Globe Temperature Compared with Approximations and Why It Matters for Labor Productivity.” Earth’s Future, January 31, 2022. https://doi.org/10.1029/2021EF002334.*"
   ]
  },
  {
   "cell_type": "markdown",
   "metadata": {},
   "source": [
    "# 1. import packages"
   ]
  },
  {
   "cell_type": "markdown",
   "metadata": {},
   "source": [
    "### 1.1 import general packages"
   ]
  },
  {
   "cell_type": "code",
   "execution_count": 1,
   "metadata": {
    "collapsed": true
   },
   "outputs": [],
   "source": [
    "# import general packages\n",
    "import xarray as xr\n",
    "import dask\n",
    "import dask.array as da\n",
    "import numpy as np\n",
    "from matplotlib import pyplot as plt\n",
    "from numba import njit, vectorize\n",
    "# import packages needed for obtaining google cloud data\n",
    "import pandas as pd\n",
    "import fsspec"
   ]
  },
  {
   "cell_type": "markdown",
   "metadata": {},
   "source": [
    "### 1.2 import modules for WBGT calculation\n",
    "Our WBGT code was written in Cython (***.pyx* file** under ***src/***) which needs to be compiled first. We have compiled Cython source files and get shared object files (***.so* file**) which are put under ***src/***. The shared object file can be directly imported in Python as modules. Here we import two modules:\n",
    "\n",
    "**(1)** ***coszenith***: the module for calculating $\\cos\\theta$ ($\\theta$ denotes zenith angle). This is needed to project direct solar radiation from a flux through a horizontal plane (as stored in climate model output or reanalysis data) to a flux through a plane perpendicular to the incoming solar radiation (as required by Liljegren's WBGT model). Since solar radiation is generally stored as an accumulated or average quantity during an interval, here we calculate the average value of $\\cos\\theta$ during intervals of a certain length (e.g. hourly) defined by users.\n",
    "\n",
    "From this module, we import two functions:\n",
    "  - ***cosza***: calculating the average $\\cos\\theta$ during each interval\n",
    "  - ***coszda***: calculating $\\cos\\theta$ during only the sunlit part of each interval; using the average $\\cos\\theta$ may lead to erroneously peaks of WBGT values around sunrise or sunset due to the small $\\cos\\theta$ values; these erroneously peaks can be removed by averaging $\\cos\\theta$ only during the sunlit period of each interval (see Kong and Huber (2021))\n",
    "  \n",
    "**(2)** ***WBGT***: the module for WBGT calculation from which we import:\n",
    "  - ***WBGT_Liljegren***: the original formulation in Liljegren's code. It only requires surface downward solar radiation as radiation input, and other radiation components (reflected solar radiation, and downward and upwelling long-wave radiation) are approximated.\n",
    "  - ***WBGT_GCM***: our modified formulation to directly use the full set of radiation components that are generally available from climate model output."
   ]
  },
  {
   "cell_type": "code",
   "execution_count": 2,
   "metadata": {
    "collapsed": true
   },
   "outputs": [],
   "source": [
    "# import functions for calculating cosine zenith angle\n",
    "from coszenith import coszda, cosza\n",
    "# import functions for calculating WBGT\n",
    "from WBGT import WBGT_Liljegren, WBGT_GCM"
   ]
  },
  {
   "cell_type": "markdown",
   "metadata": {},
   "source": [
    "# 2. Read in cmip6 data in google cloud\n",
    "We will use cmip6 data in google cloud to illustrate how to calculate WBGT with our code.\n",
    "\n",
    "First, read in a csv files that contain the metadata information of cmip6 data that are available in google cloud"
   ]
  },
  {
   "cell_type": "code",
   "execution_count": 3,
   "metadata": {
    "collapsed": true
   },
   "outputs": [],
   "source": [
    "df = pd.read_csv('https://storage.googleapis.com/cmip6/cmip6-zarr-consolidated-stores.csv')"
   ]
  },
  {
   "cell_type": "markdown",
   "metadata": {},
   "source": [
    "Query the dataframe to get the variables that are needed for calculating WBGT. Here we select historical experiment from only one model (CNRM-CM6-1) at 3 hourly frequency."
   ]
  },
  {
   "cell_type": "code",
   "execution_count": 4,
   "metadata": {},
   "outputs": [
    {
     "data": {
      "text/html": [
       "<div>\n",
       "<style scoped>\n",
       "    .dataframe tbody tr th:only-of-type {\n",
       "        vertical-align: middle;\n",
       "    }\n",
       "\n",
       "    .dataframe tbody tr th {\n",
       "        vertical-align: top;\n",
       "    }\n",
       "\n",
       "    .dataframe thead th {\n",
       "        text-align: right;\n",
       "    }\n",
       "</style>\n",
       "<table border=\"1\" class=\"dataframe\">\n",
       "  <thead>\n",
       "    <tr style=\"text-align: right;\">\n",
       "      <th></th>\n",
       "      <th>activity_id</th>\n",
       "      <th>institution_id</th>\n",
       "      <th>source_id</th>\n",
       "      <th>experiment_id</th>\n",
       "      <th>member_id</th>\n",
       "      <th>table_id</th>\n",
       "      <th>variable_id</th>\n",
       "      <th>grid_label</th>\n",
       "      <th>zstore</th>\n",
       "      <th>dcpp_init_year</th>\n",
       "      <th>version</th>\n",
       "    </tr>\n",
       "  </thead>\n",
       "  <tbody>\n",
       "    <tr>\n",
       "      <th>37596</th>\n",
       "      <td>CMIP</td>\n",
       "      <td>CNRM-CERFACS</td>\n",
       "      <td>CNRM-CM6-1</td>\n",
       "      <td>historical</td>\n",
       "      <td>r1i1p1f2</td>\n",
       "      <td>3hr</td>\n",
       "      <td>huss</td>\n",
       "      <td>gr</td>\n",
       "      <td>gs://cmip6/CMIP6/CMIP/CNRM-CERFACS/CNRM-CM6-1/...</td>\n",
       "      <td>NaN</td>\n",
       "      <td>20180917</td>\n",
       "    </tr>\n",
       "    <tr>\n",
       "      <th>37598</th>\n",
       "      <td>CMIP</td>\n",
       "      <td>CNRM-CERFACS</td>\n",
       "      <td>CNRM-CM6-1</td>\n",
       "      <td>historical</td>\n",
       "      <td>r1i1p1f2</td>\n",
       "      <td>3hr</td>\n",
       "      <td>rlus</td>\n",
       "      <td>gr</td>\n",
       "      <td>gs://cmip6/CMIP6/CMIP/CNRM-CERFACS/CNRM-CM6-1/...</td>\n",
       "      <td>NaN</td>\n",
       "      <td>20180917</td>\n",
       "    </tr>\n",
       "    <tr>\n",
       "      <th>37599</th>\n",
       "      <td>CMIP</td>\n",
       "      <td>CNRM-CERFACS</td>\n",
       "      <td>CNRM-CM6-1</td>\n",
       "      <td>historical</td>\n",
       "      <td>r1i1p1f2</td>\n",
       "      <td>3hr</td>\n",
       "      <td>rlds</td>\n",
       "      <td>gr</td>\n",
       "      <td>gs://cmip6/CMIP6/CMIP/CNRM-CERFACS/CNRM-CM6-1/...</td>\n",
       "      <td>NaN</td>\n",
       "      <td>20180917</td>\n",
       "    </tr>\n",
       "    <tr>\n",
       "      <th>37601</th>\n",
       "      <td>CMIP</td>\n",
       "      <td>CNRM-CERFACS</td>\n",
       "      <td>CNRM-CM6-1</td>\n",
       "      <td>historical</td>\n",
       "      <td>r1i1p1f2</td>\n",
       "      <td>3hr</td>\n",
       "      <td>rsds</td>\n",
       "      <td>gr</td>\n",
       "      <td>gs://cmip6/CMIP6/CMIP/CNRM-CERFACS/CNRM-CM6-1/...</td>\n",
       "      <td>NaN</td>\n",
       "      <td>20180917</td>\n",
       "    </tr>\n",
       "    <tr>\n",
       "      <th>37602</th>\n",
       "      <td>CMIP</td>\n",
       "      <td>CNRM-CERFACS</td>\n",
       "      <td>CNRM-CM6-1</td>\n",
       "      <td>historical</td>\n",
       "      <td>r1i1p1f2</td>\n",
       "      <td>3hr</td>\n",
       "      <td>rsus</td>\n",
       "      <td>gr</td>\n",
       "      <td>gs://cmip6/CMIP6/CMIP/CNRM-CERFACS/CNRM-CM6-1/...</td>\n",
       "      <td>NaN</td>\n",
       "      <td>20180917</td>\n",
       "    </tr>\n",
       "    <tr>\n",
       "      <th>37603</th>\n",
       "      <td>CMIP</td>\n",
       "      <td>CNRM-CERFACS</td>\n",
       "      <td>CNRM-CM6-1</td>\n",
       "      <td>historical</td>\n",
       "      <td>r1i1p1f2</td>\n",
       "      <td>3hr</td>\n",
       "      <td>tas</td>\n",
       "      <td>gr</td>\n",
       "      <td>gs://cmip6/CMIP6/CMIP/CNRM-CERFACS/CNRM-CM6-1/...</td>\n",
       "      <td>NaN</td>\n",
       "      <td>20180917</td>\n",
       "    </tr>\n",
       "    <tr>\n",
       "      <th>37604</th>\n",
       "      <td>CMIP</td>\n",
       "      <td>CNRM-CERFACS</td>\n",
       "      <td>CNRM-CM6-1</td>\n",
       "      <td>historical</td>\n",
       "      <td>r1i1p1f2</td>\n",
       "      <td>3hr</td>\n",
       "      <td>ps</td>\n",
       "      <td>gr</td>\n",
       "      <td>gs://cmip6/CMIP6/CMIP/CNRM-CERFACS/CNRM-CM6-1/...</td>\n",
       "      <td>NaN</td>\n",
       "      <td>20180917</td>\n",
       "    </tr>\n",
       "    <tr>\n",
       "      <th>37612</th>\n",
       "      <td>CMIP</td>\n",
       "      <td>CNRM-CERFACS</td>\n",
       "      <td>CNRM-CM6-1</td>\n",
       "      <td>historical</td>\n",
       "      <td>r1i1p1f2</td>\n",
       "      <td>3hr</td>\n",
       "      <td>uas</td>\n",
       "      <td>gr</td>\n",
       "      <td>gs://cmip6/CMIP6/CMIP/CNRM-CERFACS/CNRM-CM6-1/...</td>\n",
       "      <td>NaN</td>\n",
       "      <td>20180917</td>\n",
       "    </tr>\n",
       "    <tr>\n",
       "      <th>37619</th>\n",
       "      <td>CMIP</td>\n",
       "      <td>CNRM-CERFACS</td>\n",
       "      <td>CNRM-CM6-1</td>\n",
       "      <td>historical</td>\n",
       "      <td>r1i1p1f2</td>\n",
       "      <td>3hr</td>\n",
       "      <td>vas</td>\n",
       "      <td>gr</td>\n",
       "      <td>gs://cmip6/CMIP6/CMIP/CNRM-CERFACS/CNRM-CM6-1/...</td>\n",
       "      <td>NaN</td>\n",
       "      <td>20180917</td>\n",
       "    </tr>\n",
       "    <tr>\n",
       "      <th>37696</th>\n",
       "      <td>CMIP</td>\n",
       "      <td>CNRM-CERFACS</td>\n",
       "      <td>CNRM-CM6-1</td>\n",
       "      <td>historical</td>\n",
       "      <td>r1i1p1f2</td>\n",
       "      <td>3hr</td>\n",
       "      <td>rsdsdiff</td>\n",
       "      <td>gr</td>\n",
       "      <td>gs://cmip6/CMIP6/CMIP/CNRM-CERFACS/CNRM-CM6-1/...</td>\n",
       "      <td>NaN</td>\n",
       "      <td>20180917</td>\n",
       "    </tr>\n",
       "  </tbody>\n",
       "</table>\n",
       "</div>"
      ],
      "text/plain": [
       "      activity_id institution_id   source_id experiment_id member_id table_id  \\\n",
       "37596        CMIP   CNRM-CERFACS  CNRM-CM6-1    historical  r1i1p1f2      3hr   \n",
       "37598        CMIP   CNRM-CERFACS  CNRM-CM6-1    historical  r1i1p1f2      3hr   \n",
       "37599        CMIP   CNRM-CERFACS  CNRM-CM6-1    historical  r1i1p1f2      3hr   \n",
       "37601        CMIP   CNRM-CERFACS  CNRM-CM6-1    historical  r1i1p1f2      3hr   \n",
       "37602        CMIP   CNRM-CERFACS  CNRM-CM6-1    historical  r1i1p1f2      3hr   \n",
       "37603        CMIP   CNRM-CERFACS  CNRM-CM6-1    historical  r1i1p1f2      3hr   \n",
       "37604        CMIP   CNRM-CERFACS  CNRM-CM6-1    historical  r1i1p1f2      3hr   \n",
       "37612        CMIP   CNRM-CERFACS  CNRM-CM6-1    historical  r1i1p1f2      3hr   \n",
       "37619        CMIP   CNRM-CERFACS  CNRM-CM6-1    historical  r1i1p1f2      3hr   \n",
       "37696        CMIP   CNRM-CERFACS  CNRM-CM6-1    historical  r1i1p1f2      3hr   \n",
       "\n",
       "      variable_id grid_label  \\\n",
       "37596        huss         gr   \n",
       "37598        rlus         gr   \n",
       "37599        rlds         gr   \n",
       "37601        rsds         gr   \n",
       "37602        rsus         gr   \n",
       "37603         tas         gr   \n",
       "37604          ps         gr   \n",
       "37612         uas         gr   \n",
       "37619         vas         gr   \n",
       "37696    rsdsdiff         gr   \n",
       "\n",
       "                                                  zstore  dcpp_init_year  \\\n",
       "37596  gs://cmip6/CMIP6/CMIP/CNRM-CERFACS/CNRM-CM6-1/...             NaN   \n",
       "37598  gs://cmip6/CMIP6/CMIP/CNRM-CERFACS/CNRM-CM6-1/...             NaN   \n",
       "37599  gs://cmip6/CMIP6/CMIP/CNRM-CERFACS/CNRM-CM6-1/...             NaN   \n",
       "37601  gs://cmip6/CMIP6/CMIP/CNRM-CERFACS/CNRM-CM6-1/...             NaN   \n",
       "37602  gs://cmip6/CMIP6/CMIP/CNRM-CERFACS/CNRM-CM6-1/...             NaN   \n",
       "37603  gs://cmip6/CMIP6/CMIP/CNRM-CERFACS/CNRM-CM6-1/...             NaN   \n",
       "37604  gs://cmip6/CMIP6/CMIP/CNRM-CERFACS/CNRM-CM6-1/...             NaN   \n",
       "37612  gs://cmip6/CMIP6/CMIP/CNRM-CERFACS/CNRM-CM6-1/...             NaN   \n",
       "37619  gs://cmip6/CMIP6/CMIP/CNRM-CERFACS/CNRM-CM6-1/...             NaN   \n",
       "37696  gs://cmip6/CMIP6/CMIP/CNRM-CERFACS/CNRM-CM6-1/...             NaN   \n",
       "\n",
       "        version  \n",
       "37596  20180917  \n",
       "37598  20180917  \n",
       "37599  20180917  \n",
       "37601  20180917  \n",
       "37602  20180917  \n",
       "37603  20180917  \n",
       "37604  20180917  \n",
       "37612  20180917  \n",
       "37619  20180917  \n",
       "37696  20180917  "
      ]
     },
     "execution_count": 4,
     "metadata": {},
     "output_type": "execute_result"
    }
   ],
   "source": [
    "subset_df=df.query(\"source_id=='CNRM-CM6-1'& experiment_id=='historical' & table_id=='3hr' & variable_id==['tas', \\\n",
    "'huss','uas','vas', 'rsds', 'rsus', 'rlds', 'rlus', 'ps','rsdsdiff'] & member_id=='r1i1p1f2'\")\n",
    "subset_df"
   ]
  },
  {
   "cell_type": "markdown",
   "metadata": {},
   "source": [
    "We define functions to read in data with xarray."
   ]
  },
  {
   "cell_type": "code",
   "execution_count": 5,
   "metadata": {
    "collapsed": true
   },
   "outputs": [],
   "source": [
    "def drop_all_bounds(ds):\n",
    "    \"\"\"Drop coordinates like 'time_bounds' from datasets,\n",
    "    which can lead to issues when merging.\"\"\"\n",
    "    drop_vars = [vname for vname in ds.coords\n",
    "                 if (('_bounds') in vname ) or ('_bnds') in vname]\n",
    "    return ds.drop(drop_vars)\n",
    "def open_dsets(df):\n",
    "    \"\"\"Open datasets from cloud storage and return xarray dataset.\"\"\"\n",
    "    dsets = [xr.open_zarr(fsspec.get_mapper(ds_url), consolidated=True)\n",
    "             .pipe(drop_all_bounds)\n",
    "             for ds_url in df.zstore]\n",
    "    return dsets"
   ]
  },
  {
   "cell_type": "markdown",
   "metadata": {},
   "source": [
    "read in data and store multiple xarray dataset within a dictionary"
   ]
  },
  {
   "cell_type": "code",
   "execution_count": 6,
   "metadata": {
    "collapsed": true
   },
   "outputs": [],
   "source": [
    "dsets = dict() \n",
    "for group, df in subset_df.groupby(by=['variable_id']):\n",
    "    dsets[group] = open_dsets(df)"
   ]
  },
  {
   "cell_type": "markdown",
   "metadata": {},
   "source": [
    "Here we access each variable. We just select one month (2001-07) as an example. We use Dask to chunk the data along 'time' dimension with a chunksize of 8 time steps. Notice that for such a small data, it may be not beneficial to use Dask. But, when you are doing real calculations with large dataset, Dask can be handy to avoid loading too much data into memory and perform parallel computing."
   ]
  },
  {
   "cell_type": "code",
   "execution_count": 7,
   "metadata": {
    "collapsed": true
   },
   "outputs": [],
   "source": [
    "huss=dsets['huss'][0].huss.sel(time='2001-07').chunk({'time':8}) #specific humidity\n",
    "tas=dsets['tas'][0].tas.sel(time='2001-07').chunk({'time':8}) # 2m air temperature\n",
    "ps=dsets['ps'][0].ps.sel(time='2001-07').chunk({'time':8}) # surface air pressure\n",
    "uas=dsets['uas'][0].uas.sel(time='2001-07').chunk({'time':8}) # 10m u wind\n",
    "vas=dsets['vas'][0].vas.sel(time='2001-07').chunk({'time':8}) # 10m v wind\n",
    "rlds=dsets['rlds'][0].rlds.sel(time='2001-07').chunk({'time':8}) # long wave downwelling radiation\n",
    "rsds=dsets['rsds'][0].rsds.sel(time='2001-07').chunk({'time':8}) # short wave downwelling solar radiation\n",
    "rlus=dsets['rlus'][0].rlus.sel(time='2001-07').chunk({'time':8}) # long wave upwelling radiation\n",
    "rsus=dsets['rsus'][0].rsus.sel(time='2001-07').chunk({'time':8}) # short wave upwelling solar radiation (reflected by ground)\n",
    "rsdsdiff=dsets['rsdsdiff'][0].rsdsdiff.sel(time='2001-07').chunk({'time':8}) #downwelling diffused solar radiation"
   ]
  },
  {
   "cell_type": "markdown",
   "metadata": {},
   "source": [
    "# 3. Data preprocessing\n",
    "\n",
    "Before calling the function to calculate WBGT, we need to do some preprocessing on the data."
   ]
  },
  {
   "cell_type": "markdown",
   "metadata": {},
   "source": [
    "### 3.1 Interpolate radiation\n",
    "First, we notice that there is an offset between the time point of instantaneous nonradiation fields (e.g. temperature, humidity and wind) and the center point of the interval across which radiation fluxes are averaged. In this case, temperature, humidity and wind fields are located at 00:00:00, 03:00:00, 06:00:00..., whereas radiation fields are centered on 01:30:00, 04:30:00, 07:30:00 ... Hence, we need to interpolate radiation fields to the same time points as other fields."
   ]
  },
  {
   "cell_type": "code",
   "execution_count": 8,
   "metadata": {
    "collapsed": true
   },
   "outputs": [],
   "source": [
    "# function to interpolate radiation fields\n",
    "def interp(data):\n",
    "    date=np.arange(np.datetime64('2001-07-01T00:00:00'), np.datetime64('2001-07-31T23:00:00'),np.timedelta64(3, 'h'))\n",
    "    # notice that the first time step \"2001-07-01T00:00:00\" will be interpolated as NaN\n",
    "    result=data.interp(time=date,method='linear')\n",
    "    return result.chunk({'time':2})"
   ]
  },
  {
   "cell_type": "code",
   "execution_count": 9,
   "metadata": {},
   "outputs": [],
   "source": [
    "# interpolate radiation\n",
    "rsdsinterp=interp(rsds)\n",
    "rsusinterp=interp(rsus)\n",
    "rldsinterp=interp(rlds)\n",
    "rlusinterp=interp(rlus)\n",
    "rsdsdiffinterp=interp(rsdsdiff)"
   ]
  },
  {
   "cell_type": "code",
   "execution_count": 10,
   "metadata": {},
   "outputs": [
    {
     "data": {
      "text/html": [
       "<div><svg style=\"position: absolute; width: 0; height: 0; overflow: hidden\">\n",
       "<defs>\n",
       "<symbol id=\"icon-database\" viewBox=\"0 0 32 32\">\n",
       "<path d=\"M16 0c-8.837 0-16 2.239-16 5v4c0 2.761 7.163 5 16 5s16-2.239 16-5v-4c0-2.761-7.163-5-16-5z\"></path>\n",
       "<path d=\"M16 17c-8.837 0-16-2.239-16-5v6c0 2.761 7.163 5 16 5s16-2.239 16-5v-6c0 2.761-7.163 5-16 5z\"></path>\n",
       "<path d=\"M16 26c-8.837 0-16-2.239-16-5v6c0 2.761 7.163 5 16 5s16-2.239 16-5v-6c0 2.761-7.163 5-16 5z\"></path>\n",
       "</symbol>\n",
       "<symbol id=\"icon-file-text2\" viewBox=\"0 0 32 32\">\n",
       "<path d=\"M28.681 7.159c-0.694-0.947-1.662-2.053-2.724-3.116s-2.169-2.030-3.116-2.724c-1.612-1.182-2.393-1.319-2.841-1.319h-15.5c-1.378 0-2.5 1.121-2.5 2.5v27c0 1.378 1.122 2.5 2.5 2.5h23c1.378 0 2.5-1.122 2.5-2.5v-19.5c0-0.448-0.137-1.23-1.319-2.841zM24.543 5.457c0.959 0.959 1.712 1.825 2.268 2.543h-4.811v-4.811c0.718 0.556 1.584 1.309 2.543 2.268zM28 29.5c0 0.271-0.229 0.5-0.5 0.5h-23c-0.271 0-0.5-0.229-0.5-0.5v-27c0-0.271 0.229-0.5 0.5-0.5 0 0 15.499-0 15.5 0v7c0 0.552 0.448 1 1 1h7v19.5z\"></path>\n",
       "<path d=\"M23 26h-14c-0.552 0-1-0.448-1-1s0.448-1 1-1h14c0.552 0 1 0.448 1 1s-0.448 1-1 1z\"></path>\n",
       "<path d=\"M23 22h-14c-0.552 0-1-0.448-1-1s0.448-1 1-1h14c0.552 0 1 0.448 1 1s-0.448 1-1 1z\"></path>\n",
       "<path d=\"M23 18h-14c-0.552 0-1-0.448-1-1s0.448-1 1-1h14c0.552 0 1 0.448 1 1s-0.448 1-1 1z\"></path>\n",
       "</symbol>\n",
       "</defs>\n",
       "</svg>\n",
       "<style>/* CSS stylesheet for displaying xarray objects in jupyterlab.\n",
       " *\n",
       " */\n",
       "\n",
       ":root {\n",
       "  --xr-font-color0: var(--jp-content-font-color0, rgba(0, 0, 0, 1));\n",
       "  --xr-font-color2: var(--jp-content-font-color2, rgba(0, 0, 0, 0.54));\n",
       "  --xr-font-color3: var(--jp-content-font-color3, rgba(0, 0, 0, 0.38));\n",
       "  --xr-border-color: var(--jp-border-color2, #e0e0e0);\n",
       "  --xr-disabled-color: var(--jp-layout-color3, #bdbdbd);\n",
       "  --xr-background-color: var(--jp-layout-color0, white);\n",
       "  --xr-background-color-row-even: var(--jp-layout-color1, white);\n",
       "  --xr-background-color-row-odd: var(--jp-layout-color2, #eeeeee);\n",
       "}\n",
       "\n",
       "html[theme=dark],\n",
       "body.vscode-dark {\n",
       "  --xr-font-color0: rgba(255, 255, 255, 1);\n",
       "  --xr-font-color2: rgba(255, 255, 255, 0.54);\n",
       "  --xr-font-color3: rgba(255, 255, 255, 0.38);\n",
       "  --xr-border-color: #1F1F1F;\n",
       "  --xr-disabled-color: #515151;\n",
       "  --xr-background-color: #111111;\n",
       "  --xr-background-color-row-even: #111111;\n",
       "  --xr-background-color-row-odd: #313131;\n",
       "}\n",
       "\n",
       ".xr-wrap {\n",
       "  display: block;\n",
       "  min-width: 300px;\n",
       "  max-width: 700px;\n",
       "}\n",
       "\n",
       ".xr-text-repr-fallback {\n",
       "  /* fallback to plain text repr when CSS is not injected (untrusted notebook) */\n",
       "  display: none;\n",
       "}\n",
       "\n",
       ".xr-header {\n",
       "  padding-top: 6px;\n",
       "  padding-bottom: 6px;\n",
       "  margin-bottom: 4px;\n",
       "  border-bottom: solid 1px var(--xr-border-color);\n",
       "}\n",
       "\n",
       ".xr-header > div,\n",
       ".xr-header > ul {\n",
       "  display: inline;\n",
       "  margin-top: 0;\n",
       "  margin-bottom: 0;\n",
       "}\n",
       "\n",
       ".xr-obj-type,\n",
       ".xr-array-name {\n",
       "  margin-left: 2px;\n",
       "  margin-right: 10px;\n",
       "}\n",
       "\n",
       ".xr-obj-type {\n",
       "  color: var(--xr-font-color2);\n",
       "}\n",
       "\n",
       ".xr-sections {\n",
       "  padding-left: 0 !important;\n",
       "  display: grid;\n",
       "  grid-template-columns: 150px auto auto 1fr 20px 20px;\n",
       "}\n",
       "\n",
       ".xr-section-item {\n",
       "  display: contents;\n",
       "}\n",
       "\n",
       ".xr-section-item input {\n",
       "  display: none;\n",
       "}\n",
       "\n",
       ".xr-section-item input + label {\n",
       "  color: var(--xr-disabled-color);\n",
       "}\n",
       "\n",
       ".xr-section-item input:enabled + label {\n",
       "  cursor: pointer;\n",
       "  color: var(--xr-font-color2);\n",
       "}\n",
       "\n",
       ".xr-section-item input:enabled + label:hover {\n",
       "  color: var(--xr-font-color0);\n",
       "}\n",
       "\n",
       ".xr-section-summary {\n",
       "  grid-column: 1;\n",
       "  color: var(--xr-font-color2);\n",
       "  font-weight: 500;\n",
       "}\n",
       "\n",
       ".xr-section-summary > span {\n",
       "  display: inline-block;\n",
       "  padding-left: 0.5em;\n",
       "}\n",
       "\n",
       ".xr-section-summary-in:disabled + label {\n",
       "  color: var(--xr-font-color2);\n",
       "}\n",
       "\n",
       ".xr-section-summary-in + label:before {\n",
       "  display: inline-block;\n",
       "  content: '►';\n",
       "  font-size: 11px;\n",
       "  width: 15px;\n",
       "  text-align: center;\n",
       "}\n",
       "\n",
       ".xr-section-summary-in:disabled + label:before {\n",
       "  color: var(--xr-disabled-color);\n",
       "}\n",
       "\n",
       ".xr-section-summary-in:checked + label:before {\n",
       "  content: '▼';\n",
       "}\n",
       "\n",
       ".xr-section-summary-in:checked + label > span {\n",
       "  display: none;\n",
       "}\n",
       "\n",
       ".xr-section-summary,\n",
       ".xr-section-inline-details {\n",
       "  padding-top: 4px;\n",
       "  padding-bottom: 4px;\n",
       "}\n",
       "\n",
       ".xr-section-inline-details {\n",
       "  grid-column: 2 / -1;\n",
       "}\n",
       "\n",
       ".xr-section-details {\n",
       "  display: none;\n",
       "  grid-column: 1 / -1;\n",
       "  margin-bottom: 5px;\n",
       "}\n",
       "\n",
       ".xr-section-summary-in:checked ~ .xr-section-details {\n",
       "  display: contents;\n",
       "}\n",
       "\n",
       ".xr-array-wrap {\n",
       "  grid-column: 1 / -1;\n",
       "  display: grid;\n",
       "  grid-template-columns: 20px auto;\n",
       "}\n",
       "\n",
       ".xr-array-wrap > label {\n",
       "  grid-column: 1;\n",
       "  vertical-align: top;\n",
       "}\n",
       "\n",
       ".xr-preview {\n",
       "  color: var(--xr-font-color3);\n",
       "}\n",
       "\n",
       ".xr-array-preview,\n",
       ".xr-array-data {\n",
       "  padding: 0 5px !important;\n",
       "  grid-column: 2;\n",
       "}\n",
       "\n",
       ".xr-array-data,\n",
       ".xr-array-in:checked ~ .xr-array-preview {\n",
       "  display: none;\n",
       "}\n",
       "\n",
       ".xr-array-in:checked ~ .xr-array-data,\n",
       ".xr-array-preview {\n",
       "  display: inline-block;\n",
       "}\n",
       "\n",
       ".xr-dim-list {\n",
       "  display: inline-block !important;\n",
       "  list-style: none;\n",
       "  padding: 0 !important;\n",
       "  margin: 0;\n",
       "}\n",
       "\n",
       ".xr-dim-list li {\n",
       "  display: inline-block;\n",
       "  padding: 0;\n",
       "  margin: 0;\n",
       "}\n",
       "\n",
       ".xr-dim-list:before {\n",
       "  content: '(';\n",
       "}\n",
       "\n",
       ".xr-dim-list:after {\n",
       "  content: ')';\n",
       "}\n",
       "\n",
       ".xr-dim-list li:not(:last-child):after {\n",
       "  content: ',';\n",
       "  padding-right: 5px;\n",
       "}\n",
       "\n",
       ".xr-has-index {\n",
       "  font-weight: bold;\n",
       "}\n",
       "\n",
       ".xr-var-list,\n",
       ".xr-var-item {\n",
       "  display: contents;\n",
       "}\n",
       "\n",
       ".xr-var-item > div,\n",
       ".xr-var-item label,\n",
       ".xr-var-item > .xr-var-name span {\n",
       "  background-color: var(--xr-background-color-row-even);\n",
       "  margin-bottom: 0;\n",
       "}\n",
       "\n",
       ".xr-var-item > .xr-var-name:hover span {\n",
       "  padding-right: 5px;\n",
       "}\n",
       "\n",
       ".xr-var-list > li:nth-child(odd) > div,\n",
       ".xr-var-list > li:nth-child(odd) > label,\n",
       ".xr-var-list > li:nth-child(odd) > .xr-var-name span {\n",
       "  background-color: var(--xr-background-color-row-odd);\n",
       "}\n",
       "\n",
       ".xr-var-name {\n",
       "  grid-column: 1;\n",
       "}\n",
       "\n",
       ".xr-var-dims {\n",
       "  grid-column: 2;\n",
       "}\n",
       "\n",
       ".xr-var-dtype {\n",
       "  grid-column: 3;\n",
       "  text-align: right;\n",
       "  color: var(--xr-font-color2);\n",
       "}\n",
       "\n",
       ".xr-var-preview {\n",
       "  grid-column: 4;\n",
       "}\n",
       "\n",
       ".xr-var-name,\n",
       ".xr-var-dims,\n",
       ".xr-var-dtype,\n",
       ".xr-preview,\n",
       ".xr-attrs dt {\n",
       "  white-space: nowrap;\n",
       "  overflow: hidden;\n",
       "  text-overflow: ellipsis;\n",
       "  padding-right: 10px;\n",
       "}\n",
       "\n",
       ".xr-var-name:hover,\n",
       ".xr-var-dims:hover,\n",
       ".xr-var-dtype:hover,\n",
       ".xr-attrs dt:hover {\n",
       "  overflow: visible;\n",
       "  width: auto;\n",
       "  z-index: 1;\n",
       "}\n",
       "\n",
       ".xr-var-attrs,\n",
       ".xr-var-data {\n",
       "  display: none;\n",
       "  background-color: var(--xr-background-color) !important;\n",
       "  padding-bottom: 5px !important;\n",
       "}\n",
       "\n",
       ".xr-var-attrs-in:checked ~ .xr-var-attrs,\n",
       ".xr-var-data-in:checked ~ .xr-var-data {\n",
       "  display: block;\n",
       "}\n",
       "\n",
       ".xr-var-data > table {\n",
       "  float: right;\n",
       "}\n",
       "\n",
       ".xr-var-name span,\n",
       ".xr-var-data,\n",
       ".xr-attrs {\n",
       "  padding-left: 25px !important;\n",
       "}\n",
       "\n",
       ".xr-attrs,\n",
       ".xr-var-attrs,\n",
       ".xr-var-data {\n",
       "  grid-column: 1 / -1;\n",
       "}\n",
       "\n",
       "dl.xr-attrs {\n",
       "  padding: 0;\n",
       "  margin: 0;\n",
       "  display: grid;\n",
       "  grid-template-columns: 125px auto;\n",
       "}\n",
       "\n",
       ".xr-attrs dt,\n",
       ".xr-attrs dd {\n",
       "  padding: 0;\n",
       "  margin: 0;\n",
       "  float: left;\n",
       "  padding-right: 10px;\n",
       "  width: auto;\n",
       "}\n",
       "\n",
       ".xr-attrs dt {\n",
       "  font-weight: normal;\n",
       "  grid-column: 1;\n",
       "}\n",
       "\n",
       ".xr-attrs dt:hover span {\n",
       "  display: inline-block;\n",
       "  background: var(--xr-background-color);\n",
       "  padding-right: 10px;\n",
       "}\n",
       "\n",
       ".xr-attrs dd {\n",
       "  grid-column: 2;\n",
       "  white-space: pre-wrap;\n",
       "  word-break: break-all;\n",
       "}\n",
       "\n",
       ".xr-icon-database,\n",
       ".xr-icon-file-text2 {\n",
       "  display: inline-block;\n",
       "  vertical-align: middle;\n",
       "  width: 1em;\n",
       "  height: 1.5em !important;\n",
       "  stroke-width: 0;\n",
       "  stroke: currentColor;\n",
       "  fill: currentColor;\n",
       "}\n",
       "</style><pre class='xr-text-repr-fallback'>&lt;xarray.DataArray &#x27;time&#x27; (time: 248)&gt;\n",
       "array([&#x27;2001-07-01T00:00:00.000000000&#x27;, &#x27;2001-07-01T03:00:00.000000000&#x27;,\n",
       "       &#x27;2001-07-01T06:00:00.000000000&#x27;, ..., &#x27;2001-07-31T15:00:00.000000000&#x27;,\n",
       "       &#x27;2001-07-31T18:00:00.000000000&#x27;, &#x27;2001-07-31T21:00:00.000000000&#x27;],\n",
       "      dtype=&#x27;datetime64[ns]&#x27;)\n",
       "Coordinates:\n",
       "  * time     (time) datetime64[ns] 2001-07-01 ... 2001-07-31T21:00:00</pre><div class='xr-wrap' hidden><div class='xr-header'><div class='xr-obj-type'>xarray.DataArray</div><div class='xr-array-name'>'time'</div><ul class='xr-dim-list'><li><span class='xr-has-index'>time</span>: 248</li></ul></div><ul class='xr-sections'><li class='xr-section-item'><div class='xr-array-wrap'><input id='section-ca6c1fb7-42e3-4c81-a950-666195e9ba9e' class='xr-array-in' type='checkbox' checked><label for='section-ca6c1fb7-42e3-4c81-a950-666195e9ba9e' title='Show/hide data repr'><svg class='icon xr-icon-database'><use xlink:href='#icon-database'></use></svg></label><div class='xr-array-preview xr-preview'><span>2001-07-01 2001-07-01T03:00:00 ... 2001-07-31T21:00:00</span></div><div class='xr-array-data'><pre>array([&#x27;2001-07-01T00:00:00.000000000&#x27;, &#x27;2001-07-01T03:00:00.000000000&#x27;,\n",
       "       &#x27;2001-07-01T06:00:00.000000000&#x27;, ..., &#x27;2001-07-31T15:00:00.000000000&#x27;,\n",
       "       &#x27;2001-07-31T18:00:00.000000000&#x27;, &#x27;2001-07-31T21:00:00.000000000&#x27;],\n",
       "      dtype=&#x27;datetime64[ns]&#x27;)</pre></div></div></li><li class='xr-section-item'><input id='section-545f4e5d-17a6-4afc-b073-4e17ccd035e9' class='xr-section-summary-in' type='checkbox'  checked><label for='section-545f4e5d-17a6-4afc-b073-4e17ccd035e9' class='xr-section-summary' >Coordinates: <span>(1)</span></label><div class='xr-section-inline-details'></div><div class='xr-section-details'><ul class='xr-var-list'><li class='xr-var-item'><div class='xr-var-name'><span class='xr-has-index'>time</span></div><div class='xr-var-dims'>(time)</div><div class='xr-var-dtype'>datetime64[ns]</div><div class='xr-var-preview xr-preview'>2001-07-01 ... 2001-07-31T21:00:00</div><input id='attrs-45803854-45da-4710-ad84-5c66d951b720' class='xr-var-attrs-in' type='checkbox' disabled><label for='attrs-45803854-45da-4710-ad84-5c66d951b720' title='Show/Hide attributes'><svg class='icon xr-icon-file-text2'><use xlink:href='#icon-file-text2'></use></svg></label><input id='data-c9be2a25-bce8-4ede-b202-0363957c5b14' class='xr-var-data-in' type='checkbox'><label for='data-c9be2a25-bce8-4ede-b202-0363957c5b14' title='Show/Hide data repr'><svg class='icon xr-icon-database'><use xlink:href='#icon-database'></use></svg></label><div class='xr-var-attrs'><dl class='xr-attrs'></dl></div><div class='xr-var-data'><pre>array([&#x27;2001-07-01T00:00:00.000000000&#x27;, &#x27;2001-07-01T03:00:00.000000000&#x27;,\n",
       "       &#x27;2001-07-01T06:00:00.000000000&#x27;, ..., &#x27;2001-07-31T15:00:00.000000000&#x27;,\n",
       "       &#x27;2001-07-31T18:00:00.000000000&#x27;, &#x27;2001-07-31T21:00:00.000000000&#x27;],\n",
       "      dtype=&#x27;datetime64[ns]&#x27;)</pre></div></li></ul></div></li><li class='xr-section-item'><input id='section-2380246f-176f-45bb-99f3-84a2a5e5f047' class='xr-section-summary-in' type='checkbox' disabled ><label for='section-2380246f-176f-45bb-99f3-84a2a5e5f047' class='xr-section-summary'  title='Expand/collapse section'>Attributes: <span>(0)</span></label><div class='xr-section-inline-details'></div><div class='xr-section-details'><dl class='xr-attrs'></dl></div></li></ul></div></div>"
      ],
      "text/plain": [
       "<xarray.DataArray 'time' (time: 248)>\n",
       "array(['2001-07-01T00:00:00.000000000', '2001-07-01T03:00:00.000000000',\n",
       "       '2001-07-01T06:00:00.000000000', ..., '2001-07-31T15:00:00.000000000',\n",
       "       '2001-07-31T18:00:00.000000000', '2001-07-31T21:00:00.000000000'],\n",
       "      dtype='datetime64[ns]')\n",
       "Coordinates:\n",
       "  * time     (time) datetime64[ns] 2001-07-01 ... 2001-07-31T21:00:00"
      ]
     },
     "execution_count": 10,
     "metadata": {},
     "output_type": "execute_result"
    }
   ],
   "source": [
    "# check that radiation fields have correct time coordinates\n",
    "rsdsinterp.time"
   ]
  },
  {
   "cell_type": "markdown",
   "metadata": {},
   "source": [
    "### 3.2 calculate $\\cos\\theta$\n",
    "We calculate $\\cos\\theta$ averaged both during each interval and during only the sunlit period of each interval. Both of them are needed for calculating WBGT. For the details of the calculation procedure of $\\cos\\theta$ please refer to Hogan and Hirahara (2016), and Di Napoli et al (2020)"
   ]
  },
  {
   "cell_type": "code",
   "execution_count": 11,
   "metadata": {
    "collapsed": true
   },
   "outputs": [],
   "source": [
    "# create meshgrid of latitude and longitude, and we will calculate cosine zenith angle on these grids\n",
    "lon,lat=np.meshgrid(huss.lon,huss.lat)\n",
    "lat=lat*np.pi/180\n",
    "lon=lon*np.pi/180"
   ]
  },
  {
   "cell_type": "markdown",
   "metadata": {},
   "source": [
    "calculate $\\cos\\theta$ averaged during each interval.\n",
    "\n",
    "the function ***cosza*** asks for four inputs: \n",
    "- a time series (UTC time) indicating the center points of intervals for which the $\\cos\\theta$ will be calculated\n",
    "- the latitude and longitude arrays across which $\\cos\\theta$ will be calculated\n",
    "- the length of each interval (e.g. 3 for 3hourly)"
   ]
  },
  {
   "cell_type": "code",
   "execution_count": 12,
   "metadata": {},
   "outputs": [],
   "source": [
    "# specifiy the time seris for which we want to calculate cosine zenith angle \n",
    "date=xr.DataArray(huss.time.values,dims=('time'),coords={'time':huss.time}).chunk({'time':8})\n",
    "# use dask.array map_blocks to calculate cosine zenith angle lazily and parallelly\n",
    "cza=da.map_blocks(cosza,date.data,lat,lon,3,chunks=(8,lat.shape[0],lat.shape[1]),new_axis=[1,2])\n",
    "# transfer to xarray DataArray\n",
    "cza=xr.DataArray(cza,dims=huss.dims, coords=huss.coords) "
   ]
  },
  {
   "cell_type": "markdown",
   "metadata": {},
   "source": [
    "calculate $\\cos\\theta$ averaged during only the sunlit part of each interval.\n",
    "\n",
    "the function ***coszda*** asks for four inputs: \n",
    "- a time series (UTC time) indicating the center points of intervals for which the $\\cos\\theta$ will be calculated\n",
    "- the latitude and longitude arrays across which $\\cos\\theta$ will be calculated\n",
    "- the length of each interval (e.g. 3 for 3hourly)"
   ]
  },
  {
   "cell_type": "code",
   "execution_count": 13,
   "metadata": {
    "collapsed": true
   },
   "outputs": [],
   "source": [
    "czda=da.map_blocks(coszda,date.data,lat,lon,3,chunks=(8,lat.shape[0],lat.shape[1]),new_axis=[1,2])\n",
    "# transfer to xarray DataArray\n",
    "czda=xr.DataArray(czda,dims=huss.dims, coords=huss.coords)\n",
    "# here we change zero (czda=0 when the sun is below horizon) to an arbitrary negative value (here we choose -0.5) to avoid division by zero \n",
    "czda=xr.where(czda<=0,-0.5,czda)"
   ]
  },
  {
   "cell_type": "markdown",
   "metadata": {},
   "source": [
    "Have a look at the $\\cos\\theta$ for the first time step"
   ]
  },
  {
   "cell_type": "code",
   "execution_count": 14,
   "metadata": {},
   "outputs": [
    {
     "data": {
      "text/plain": [
       "<matplotlib.collections.QuadMesh at 0x7f7fdb443820>"
      ]
     },
     "execution_count": 14,
     "metadata": {},
     "output_type": "execute_result"
    },
    {
     "data": {
      "image/png": "[encoded data removed]",
      "text/plain": [
       "<Figure size 432x288 with 2 Axes>"
      ]
     },
     "metadata": {
      "needs_background": "light"
     },
     "output_type": "display_data"
    }
   ],
   "source": [
    "cza[0,:,:].plot()"
   ]
  },
  {
   "cell_type": "code",
   "execution_count": 15,
   "metadata": {},
   "outputs": [
    {
     "data": {
      "text/plain": [
       "<matplotlib.collections.QuadMesh at 0x7f7fd908e5b0>"
      ]
     },
     "execution_count": 15,
     "metadata": {},
     "output_type": "execute_result"
    },
    {
     "data": {
      "image/png": "[encoded data removed]",
      "text/plain": [
       "<Figure size 432x288 with 2 Axes>"
      ]
     },
     "metadata": {
      "needs_background": "light"
     },
     "output_type": "display_data"
    }
   ],
   "source": [
    "czda[0,:,:].plot()"
   ]
  },
  {
   "cell_type": "markdown",
   "metadata": {},
   "source": [
    "### 3.3 Calculate relative humidity\n",
    "Here we calculate relative humidity from specific humidity since relative humidity is one of the required inputs for WBGT function."
   ]
  },
  {
   "cell_type": "code",
   "execution_count": 16,
   "metadata": {
    "collapsed": true
   },
   "outputs": [],
   "source": [
    "# calculate saturated vapor pressure\n",
    "@vectorize\n",
    "def esat(tas,ps):\n",
    "    # tas: temperature (K)\n",
    "    # ps: surface pressure (Pa)\n",
    "    # return saturation vapor pressure (Pa)\n",
    "    if tas>273.15:\n",
    "        es = 611.21 * np.exp(17.502 * (tas - 273.15) *((tas - 32.18)**(-1)))\n",
    "        es = (1.0007 + (3.46*10**(-6) * ps/100)) * es\n",
    "    else:\n",
    "        es = 611.15 * np.exp(22.452 * (tas - 273.15) * ((tas - 0.6)**(-1)))\n",
    "        es=(1.0003 + (4.18*10**(-6) * ps/100)) * es\n",
    "    return es\n",
    "# calculate vapor pressure\n",
    "def vaporpres(huss, ps):\n",
    "    # huss: specific humidity (kg/kg)\n",
    "    # ps: surface pressure (Pa)\n",
    "    # return vapor pressure (Pa)\n",
    "    r=huss*((1-huss)**(-1))\n",
    "    return ps*r*((0.622+r)**(-1))\n",
    "# calculate relative humidity from specific humidity\n",
    "def huss2rh(tas,huss,ps):\n",
    "    # tas: temperature (K)\n",
    "    # huss: specific humidity (kg/kg)\n",
    "    # ps: surface pressure (Pa)\n",
    "    # return relative humidity (%)\n",
    "    return vaporpres(huss, ps)*(esat(tas,ps)**(-1))*100"
   ]
  },
  {
   "cell_type": "code",
   "execution_count": 17,
   "metadata": {
    "collapsed": true
   },
   "outputs": [],
   "source": [
    "# calculate relative humidity\n",
    "hurs=xr.apply_ufunc(huss2rh,tas,huss,ps,dask=\"parallelized\",output_dtypes=[float])\n",
    "# set the maximum value as 100%\n",
    "hurs=xr.where(hurs>100,100,hurs)"
   ]
  },
  {
   "cell_type": "markdown",
   "metadata": {},
   "source": [
    "### 3.4 Calculate wind speed\n",
    "Calculate wind speed from the u and v components of wind. Keep in mind that the wind speed are output at 10m height. Our WBGT function will ask for a boolean argument to indicate whether 2m (```True```) or 10m (```False```) wind is used."
   ]
  },
  {
   "cell_type": "code",
   "execution_count": 19,
   "metadata": {},
   "outputs": [],
   "source": [
    "func = lambda x, y: np.sqrt(x ** 2 + y ** 2)\n",
    "sfcwind=xr.apply_ufunc(func, uas, vas,dask=\"parallelized\",output_dtypes=[float])"
   ]
  },
  {
   "cell_type": "markdown",
   "metadata": {},
   "source": [
    "### 3.5 Calculate the ratio of direct solar radiation\n",
    "We need to know the ratio of direct solar radiation in order to get the radiation heat gain right for WBGT calculation, since the treatment of direct and diffuse solar radiation are different in the code. \n",
    "\n",
    "In this case, we have ```rsdsdiff``` which is the diffuse solar radiation, so we can directly calculate the ratio of direct solar radiation. \n",
    "\n",
    "When we don't have such a field, we need to call the **```fdir```** function (also can be imported from the ```WBGT``` module) to calculate the ratio. Please refer to the ```WBGT.pyx``` file for how to call **```fdir```** function."
   ]
  },
  {
   "cell_type": "code",
   "execution_count": 20,
   "metadata": {
    "collapsed": true
   },
   "outputs": [],
   "source": [
    "f=(rsdsinterp-rsdsdiffinterp)/rsdsinterp \n",
    "# the treatments below aim to avoid unrealistically high or low values of f which are also included in Liljegren's code.\n",
    "f=xr.where(cza<=np.cos(89.5/180*np.pi),0,f) \n",
    "f=xr.where(f>0.9,0.9,f)\n",
    "f=xr.where(f<0,0,f)\n",
    "f=xr.where(rsdsinterp<=0,0,f)"
   ]
  },
  {
   "cell_type": "markdown",
   "metadata": {},
   "source": [
    "# 4. Calculate WBGT"
   ]
  },
  {
   "cell_type": "markdown",
   "metadata": {},
   "source": [
    "### 4.1 Liljegren's original formulation\n",
    "In Liljegren's original formulation, downward solar radiation is the only required radiation input, other radiation components are approximated internally.\n",
    "\n",
    "The meaning of each argument:\n",
    "- ```tas```: air temperature (K)\n",
    "-  ```hurs```: relative humidity (%)\n",
    "-  ```sfcwind```: 2 meter wind speed (m/s)\n",
    "-  ```ps```: surface pressure (Pa)\n",
    "-  ```rsdsinterp```: surface downward solar radiation (w/m2)\n",
    "-  ```f```: the ratio of direct solar radiation \n",
    "- ```czda```: average cosine zenith angle during only the sunlit period of each interval\n",
    "\n",
    "-  the ```False``` argument at the end tell the function that our wind speed is not at 2meter height which will make  the function to treat wind speed as 10 meter height and transfer it to 2 meter. The function currently only support 2 meter and 10meter wind. For wind speed at other heights, users need to change the source code slightly."
   ]
  },
  {
   "cell_type": "code",
   "execution_count": 21,
   "metadata": {
    "collapsed": true
   },
   "outputs": [],
   "source": [
    "wbgt_liljegren=xr.apply_ufunc(WBGT_Liljegren,tas,hurs,ps,sfcwind,rsdsinterp,f,czda,False,dask=\"parallelized\",output_dtypes=[float])"
   ]
  },
  {
   "cell_type": "markdown",
   "metadata": {},
   "source": [
    "We also exposed the functions for calculating natural wet bulb temperature and black globe temperature, two important components of WBGT"
   ]
  },
  {
   "cell_type": "code",
   "execution_count": 22,
   "metadata": {
    "collapsed": true
   },
   "outputs": [],
   "source": [
    "from WBGT import Tg_Liljegren, Tnwb_Liljegren"
   ]
  },
  {
   "cell_type": "code",
   "execution_count": 23,
   "metadata": {
    "collapsed": true
   },
   "outputs": [],
   "source": [
    "# calculate black globe temperature\n",
    "tg_liljegren=xr.apply_ufunc(Tg_Liljegren,tas,hurs,ps,sfcwind,rsdsinterp,f,czda,False,dask=\"parallelized\",output_dtypes=[float])"
   ]
  },
  {
   "cell_type": "code",
   "execution_count": 24,
   "metadata": {
    "collapsed": true
   },
   "outputs": [],
   "source": [
    "# calculate natural wet bulb temperature\n",
    "tnwb_liljegren=xr.apply_ufunc(Tnwb_Liljegren,tas,hurs,ps,sfcwind,rsdsinterp,f,czda,False,dask=\"parallelized\",output_dtypes=[float])"
   ]
  },
  {
   "cell_type": "markdown",
   "metadata": {},
   "source": [
    "Let's plot calculated WBGT at the last time step"
   ]
  },
  {
   "cell_type": "code",
   "execution_count": 25,
   "metadata": {},
   "outputs": [
    {
     "name": "stderr",
     "output_type": "stream",
     "text": [
      "/home/kong97/.conda/envs/qin/lib/python3.8/site-packages/dask/core.py:121: RuntimeWarning: invalid value encountered in true_divide\n",
      "  return func(*(_execute_task(a, cache) for a in args))\n"
     ]
    },
    {
     "data": {
      "text/plain": [
       "<matplotlib.collections.QuadMesh at 0x7f7fd58fa130>"
      ]
     },
     "execution_count": 25,
     "metadata": {},
     "output_type": "execute_result"
    },
    {
     "data": {
      "image/png": "[encoded data removed]",
      "text/plain": [
       "<Figure size 432x288 with 2 Axes>"
      ]
     },
     "metadata": {
      "needs_background": "light"
     },
     "output_type": "display_data"
    }
   ],
   "source": [
    "wbgt_liljegren[-1,:,:].plot()"
   ]
  },
  {
   "cell_type": "markdown",
   "metadata": {},
   "source": [
    "### 4.2 Our modified formulation\n",
    "We modify Liljegren's original code to take advantage of the full set of radiation components available from climate model output. \n",
    "\n",
    "The meaning of each argument:\n",
    "- ```tas```: air temperature (K)\n",
    "-  ```hurs```: relative humidity (%)\n",
    "-  ```sfcwind```: 2 meter wind speed (m/s)\n",
    "-  ```ps```: surface pressure (Pa)\n",
    "-  ```rsdsinterp```: surface downward solar radiation (w/m2)\n",
    "-  ```rsusinterp```: surface reflected solar radiation (w/m2)\n",
    "-  ```rldsinterp```: surface downward long-wave radiation (w/m2)\n",
    "-  ```rlusinterp```: surface upwelling long-wave radiation (w/m2)\n",
    "- ```f```: the ratio of direct solar radiation \n",
    "-  ```czda```: average cosine zenith angle during only the sunlit period of each interval\n",
    "- ```False```: indicate we are using 10m wind"
   ]
  },
  {
   "cell_type": "code",
   "execution_count": 26,
   "metadata": {
    "collapsed": true
   },
   "outputs": [],
   "source": [
    "# calculate WBGT\n",
    "wbgt_gcm=xr.apply_ufunc(WBGT_GCM,tas,hurs,ps,sfcwind,rsdsinterp,rsusinterp,rldsinterp,rlusinterp,f,czda,False,dask=\"parallelized\",output_dtypes=[float])"
   ]
  },
  {
   "cell_type": "markdown",
   "metadata": {},
   "source": [
    "calculate components of WBGT"
   ]
  },
  {
   "cell_type": "code",
   "execution_count": 27,
   "metadata": {
    "collapsed": true
   },
   "outputs": [],
   "source": [
    "from WBGT import Tg_GCM, Tnwb_GCM"
   ]
  },
  {
   "cell_type": "code",
   "execution_count": 28,
   "metadata": {
    "collapsed": true
   },
   "outputs": [],
   "source": [
    "# calculate black globe temperature\n",
    "tg_gcm=xr.apply_ufunc(Tg_GCM,tas,ps,sfcwind,rsdsinterp,rsusinterp,rldsinterp,rlusinterp,f,czda,False,dask=\"parallelized\",output_dtypes=[float])"
   ]
  },
  {
   "cell_type": "code",
   "execution_count": 29,
   "metadata": {
    "collapsed": true
   },
   "outputs": [],
   "source": [
    "# calculate natural wet bulb temperature\n",
    "tnwb_gcm=xr.apply_ufunc(Tnwb_GCM,tas,hurs,ps,sfcwind,rsdsinterp,rsusinterp,rldsinterp,rlusinterp,f,czda,False,dask=\"parallelized\",output_dtypes=[float])"
   ]
  },
  {
   "cell_type": "markdown",
   "metadata": {},
   "source": [
    "Let's plot monthly average WBGT."
   ]
  },
  {
   "cell_type": "code",
   "execution_count": 30,
   "metadata": {},
   "outputs": [
    {
     "name": "stderr",
     "output_type": "stream",
     "text": [
      "/home/kong97/.conda/envs/qin/lib/python3.8/site-packages/dask/core.py:121: RuntimeWarning: invalid value encountered in true_divide\n",
      "  return func(*(_execute_task(a, cache) for a in args))\n"
     ]
    },
    {
     "data": {
      "text/plain": [
       "<matplotlib.collections.QuadMesh at 0x7f7fd74e1820>"
      ]
     },
     "execution_count": 30,
     "metadata": {},
     "output_type": "execute_result"
    },
    {
     "data": {
      "image/png": "[encoded data removed]",
      "text/plain": [
       "<Figure size 432x288 with 2 Axes>"
      ]
     },
     "metadata": {
      "needs_background": "light"
     },
     "output_type": "display_data"
    }
   ],
   "source": [
    "wbgt_gcm.mean('time').plot()"
   ]
  },
  {
   "cell_type": "markdown",
   "metadata": {},
   "source": [
    "# References\n",
    "Liljegren, J. C., Carhart, R. A., Lawday, P., Tschopp, S. & Sharp, R. Modeling the Wet Bulb Globe Temperature Using Standard Meteorological Measurements. Journal of Occupational and Environmental Hygiene 5, 645–655 (2008).\n",
    "\n",
    "Di Napoli, C., Hogan, R. J. & Pappenberger, F. Mean radiant temperature from global-scale numerical weather prediction models. Int J Biometeorol 64, 1233–1245 (2020).\n",
    "\n",
    "Hogan, R. J. & Hirahara, S. Effect of solar zenith angle specification in models on mean shortwave fluxes and stratospheric temperatures. Geophys. Res. Lett. 43, 482–488 (2016).\n"
   ]
  }
 ],
 "metadata": {
  "kernelspec": {
   "display_name": "qin",
   "language": "python",
   "name": "qin"
  },
  "language_info": {
   "codemirror_mode": {
    "name": "ipython",
    "version": 3
   },
   "file_extension": ".py",
   "mimetype": "text/x-python",
   "name": "python",
   "nbconvert_exporter": "python",
   "pygments_lexer": "ipython3",
   "version": "3.8.8"
  }
 },
 "nbformat": 4,
 "nbformat_minor": 4
}
